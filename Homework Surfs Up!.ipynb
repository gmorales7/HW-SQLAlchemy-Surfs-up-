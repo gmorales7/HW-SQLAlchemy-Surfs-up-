{
 "cells": [
  {
   "cell_type": "code",
   "execution_count": 1,
   "metadata": {},
   "outputs": [],
   "source": [
    "import matplotlib\n",
    "from matplotlib import style\n",
    "style.use('fivethirtyeight')\n",
    "import matplotlib.pyplot as plt\n",
    "import numpy as np\n",
    "import datetime as dt"
   ]
  },
  {
   "cell_type": "code",
   "execution_count": 2,
   "metadata": {},
   "outputs": [],
   "source": [
    "import pandas as pd"
   ]
  },
  {
   "cell_type": "code",
   "execution_count": 3,
   "metadata": {},
   "outputs": [],
   "source": [
    "# Python SQL toolkit and Object Relational Mapper\n",
    "import sqlalchemy\n",
    "from sqlalchemy.ext.automap import automap_base\n",
    "from sqlalchemy.orm import Session\n",
    "from sqlalchemy import create_engine, inspect, func"
   ]
  },
  {
   "cell_type": "markdown",
   "metadata": {},
   "source": [
    "# Climate Analysis and Exploration"
   ]
  },
  {
   "cell_type": "code",
   "execution_count": 4,
   "metadata": {},
   "outputs": [],
   "source": [
    "engine=create_engine(\"sqlite:///hawaii.sqlite\")"
   ]
  },
  {
   "cell_type": "code",
   "execution_count": 5,
   "metadata": {},
   "outputs": [],
   "source": [
    "# Reflect Database into ORM class\n",
    "Base = automap_base()\n",
    "# reflect the tables\n",
    "Base.prepare(engine, reflect=True)"
   ]
  },
  {
   "cell_type": "code",
   "execution_count": 6,
   "metadata": {},
   "outputs": [
    {
     "data": {
      "text/plain": [
       "['measurement', 'station']"
      ]
     },
     "execution_count": 6,
     "metadata": {},
     "output_type": "execute_result"
    }
   ],
   "source": [
    "# To see all of the classes that automap found\n",
    "Base.classes.keys()"
   ]
  },
  {
   "cell_type": "code",
   "execution_count": 7,
   "metadata": {},
   "outputs": [],
   "source": [
    "# Save references for each one\n",
    "Measurement = Base.classes.measurement\n",
    "Station = Base.classes.station"
   ]
  },
  {
   "cell_type": "code",
   "execution_count": 8,
   "metadata": {},
   "outputs": [
    {
     "name": "stdout",
     "output_type": "stream",
     "text": [
      "id INTEGER\n",
      "station TEXT\n",
      "date TEXT\n",
      "prcp FLOAT\n",
      "tobs FLOAT\n"
     ]
    }
   ],
   "source": [
    "# Create a session from python to the database and inspect\n",
    "session = Session(engine)\n",
    "inspector = inspect(engine)\n",
    "\n",
    "columns = inspector.get_columns('measurement')\n",
    "for column in columns:\n",
    "    print(column[\"name\"], column[\"type\"])"
   ]
  },
  {
   "cell_type": "markdown",
   "metadata": {},
   "source": [
    "# Precipitation Analysis"
   ]
  },
  {
   "cell_type": "code",
   "execution_count": 9,
   "metadata": {},
   "outputs": [
    {
     "data": {
      "text/plain": [
       "('2010-01-01')"
      ]
     },
     "execution_count": 9,
     "metadata": {},
     "output_type": "execute_result"
    }
   ],
   "source": [
    "#first and last date item\n",
    "session.query(Measurement.date).order_by(Measurement.date).first()"
   ]
  },
  {
   "cell_type": "code",
   "execution_count": 10,
   "metadata": {},
   "outputs": [
    {
     "data": {
      "text/plain": [
       "('2017-08-23')"
      ]
     },
     "execution_count": 10,
     "metadata": {},
     "output_type": "execute_result"
    }
   ],
   "source": [
    "last=session.query(Measurement.date).order_by(Measurement.date.desc()).first()\n",
    "last"
   ]
  },
  {
   "cell_type": "code",
   "execution_count": 11,
   "metadata": {},
   "outputs": [
    {
     "data": {
      "text/plain": [
       "datetime.date(2016, 8, 23)"
      ]
     },
     "execution_count": 11,
     "metadata": {},
     "output_type": "execute_result"
    }
   ],
   "source": [
    "# Calculate the last 12 month item of the data (365 days from the last date, ie 2017-08-23)\n",
    "last_year=(dt.datetime.strptime(last[0], '%Y-%m-%d')-dt.timedelta(days=365)).date()\n",
    "last_year"
   ]
  },
  {
   "cell_type": "code",
   "execution_count": 12,
   "metadata": {},
   "outputs": [],
   "source": [
    "# Query to retrieve the last 12 months of data and plot it\n",
    "sel = [Measurement.date,Measurement.prcp]\n",
    "year_data = session.query(*sel).\\\n",
    "    filter(func.strftime(Measurement.date >= last_year)).\\\n",
    "    order_by(Measurement.date).all()"
   ]
  },
  {
   "cell_type": "code",
   "execution_count": 13,
   "metadata": {
    "scrolled": true
   },
   "outputs": [
    {
     "data": {
      "text/html": [
       "<div>\n",
       "<style scoped>\n",
       "    .dataframe tbody tr th:only-of-type {\n",
       "        vertical-align: middle;\n",
       "    }\n",
       "\n",
       "    .dataframe tbody tr th {\n",
       "        vertical-align: top;\n",
       "    }\n",
       "\n",
       "    .dataframe thead th {\n",
       "        text-align: right;\n",
       "    }\n",
       "</style>\n",
       "<table border=\"1\" class=\"dataframe\">\n",
       "  <thead>\n",
       "    <tr style=\"text-align: right;\">\n",
       "      <th></th>\n",
       "      <th>prcp</th>\n",
       "    </tr>\n",
       "    <tr>\n",
       "      <th>date</th>\n",
       "      <th></th>\n",
       "    </tr>\n",
       "  </thead>\n",
       "  <tbody>\n",
       "    <tr>\n",
       "      <th>2016-08-23</th>\n",
       "      <td>0.00</td>\n",
       "    </tr>\n",
       "    <tr>\n",
       "      <th>2016-08-23</th>\n",
       "      <td>0.15</td>\n",
       "    </tr>\n",
       "    <tr>\n",
       "      <th>2016-08-23</th>\n",
       "      <td>0.05</td>\n",
       "    </tr>\n",
       "    <tr>\n",
       "      <th>2016-08-23</th>\n",
       "      <td>0.02</td>\n",
       "    </tr>\n",
       "    <tr>\n",
       "      <th>2016-08-23</th>\n",
       "      <td>1.79</td>\n",
       "    </tr>\n",
       "  </tbody>\n",
       "</table>\n",
       "</div>"
      ],
      "text/plain": [
       "            prcp\n",
       "date            \n",
       "2016-08-23  0.00\n",
       "2016-08-23  0.15\n",
       "2016-08-23  0.05\n",
       "2016-08-23  0.02\n",
       "2016-08-23  1.79"
      ]
     },
     "execution_count": 13,
     "metadata": {},
     "output_type": "execute_result"
    }
   ],
   "source": [
    "# convert query results to Pandas DataFrame and make date the index\n",
    "df=pd.DataFrame(year_data, columns=['date', 'prcp']).dropna(how='any')\n",
    "df.set_index('date', inplace=True)\n",
    "df.head()"
   ]
  },
  {
   "cell_type": "code",
   "execution_count": 14,
   "metadata": {},
   "outputs": [
    {
     "data": {
      "text/html": [
       "<div>\n",
       "<style scoped>\n",
       "    .dataframe tbody tr th:only-of-type {\n",
       "        vertical-align: middle;\n",
       "    }\n",
       "\n",
       "    .dataframe tbody tr th {\n",
       "        vertical-align: top;\n",
       "    }\n",
       "\n",
       "    .dataframe thead th {\n",
       "        text-align: right;\n",
       "    }\n",
       "</style>\n",
       "<table border=\"1\" class=\"dataframe\">\n",
       "  <thead>\n",
       "    <tr style=\"text-align: right;\">\n",
       "      <th></th>\n",
       "      <th>prcp</th>\n",
       "    </tr>\n",
       "  </thead>\n",
       "  <tbody>\n",
       "    <tr>\n",
       "      <th>count</th>\n",
       "      <td>2021.000000</td>\n",
       "    </tr>\n",
       "    <tr>\n",
       "      <th>mean</th>\n",
       "      <td>0.177279</td>\n",
       "    </tr>\n",
       "    <tr>\n",
       "      <th>std</th>\n",
       "      <td>0.461190</td>\n",
       "    </tr>\n",
       "    <tr>\n",
       "      <th>min</th>\n",
       "      <td>0.000000</td>\n",
       "    </tr>\n",
       "    <tr>\n",
       "      <th>25%</th>\n",
       "      <td>0.000000</td>\n",
       "    </tr>\n",
       "    <tr>\n",
       "      <th>50%</th>\n",
       "      <td>0.020000</td>\n",
       "    </tr>\n",
       "    <tr>\n",
       "      <th>75%</th>\n",
       "      <td>0.130000</td>\n",
       "    </tr>\n",
       "    <tr>\n",
       "      <th>max</th>\n",
       "      <td>6.700000</td>\n",
       "    </tr>\n",
       "  </tbody>\n",
       "</table>\n",
       "</div>"
      ],
      "text/plain": [
       "              prcp\n",
       "count  2021.000000\n",
       "mean      0.177279\n",
       "std       0.461190\n",
       "min       0.000000\n",
       "25%       0.000000\n",
       "50%       0.020000\n",
       "75%       0.130000\n",
       "max       6.700000"
      ]
     },
     "execution_count": 14,
     "metadata": {},
     "output_type": "execute_result"
    }
   ],
   "source": [
    "#statistics Summary with pandas\n",
    "df.describe()"
   ]
  },
  {
   "cell_type": "code",
   "execution_count": 15,
   "metadata": {},
   "outputs": [
    {
     "data": {
      "text/plain": [
       "Text(0, 0.5, 'Precipitation level')"
      ]
     },
     "execution_count": 15,
     "metadata": {},
     "output_type": "execute_result"
    },
    {
     "data": {
      "image/png": "[encoded data removed]",
      "text/plain": [
       "<Figure size 432x288 with 1 Axes>"
      ]
     },
     "metadata": {
      "needs_background": "light"
     },
     "output_type": "display_data"
    }
   ],
   "source": [
    "df.plot(x_compat=True,color='darkblue')\n",
    "plt.title(\"Precipitation Level by Date\")\n",
    "plt.xticks(rotation=30,fontsize='12',color='darkblue')\n",
    "plt.gcf().subplots_adjust(bottom=0.1)\n",
    "plt.ylabel('Precipitation level')\n"
   ]
  },
  {
   "cell_type": "markdown",
   "metadata": {},
   "source": [
    "* Design a query to find the most active stations.\n",
    "    - List the stations and observation counts in descending order.\n",
    "    - Which station has the highest number of observations?"
   ]
  },
  {
   "cell_type": "code",
   "execution_count": 16,
   "metadata": {},
   "outputs": [
    {
     "name": "stdout",
     "output_type": "stream",
     "text": [
      "9\n"
     ]
    }
   ],
   "source": [
    "available = session.query(Measurement).group_by('station').count()\n",
    "print(available)"
   ]
  },
  {
   "cell_type": "code",
   "execution_count": 17,
   "metadata": {},
   "outputs": [
    {
     "name": "stdout",
     "output_type": "stream",
     "text": [
      "('USC00519397', 'WAIKIKI 717.2, HI US')\n",
      "('USC00513117', 'KANEOHE 838.1, HI US')\n",
      "('USC00514830', 'KUALOA RANCH HEADQUARTERS 886.9, HI US')\n",
      "('USC00517948', 'PEARL CITY, HI US')\n",
      "('USC00518838', 'UPPER WAHIAWA 874.3, HI US')\n",
      "('USC00519523', 'WAIMANALO EXPERIMENTAL FARM, HI US')\n",
      "('USC00519281', 'WAIHEE 837.5, HI US')\n",
      "('USC00511918', 'HONOLULU OBSERVATORY 702.2, HI US')\n",
      "('USC00516128', 'MANOA LYON ARBO 785.2, HI US')\n"
     ]
    }
   ],
   "source": [
    "#the list of stations:\n",
    "for row in session.query(Station.station, Station.name).all():\n",
    "    print(row)"
   ]
  },
  {
   "cell_type": "code",
   "execution_count": 18,
   "metadata": {},
   "outputs": [
    {
     "data": {
      "text/plain": [
       "[('USC00519281', 2772),\n",
       " ('USC00519397', 2724),\n",
       " ('USC00513117', 2709),\n",
       " ('USC00519523', 2669),\n",
       " ('USC00516128', 2612),\n",
       " ('USC00514830', 2202),\n",
       " ('USC00511918', 1979),\n",
       " ('USC00517948', 1372),\n",
       " ('USC00518838', 511)]"
      ]
     },
     "execution_count": 18,
     "metadata": {},
     "output_type": "execute_result"
    }
   ],
   "source": [
    "# Most active stations (with more rows), here we observ that station 'USC00519281', 'WAIHEE 837.5, HI US' is the one with\n",
    "# the highest number of observations\n",
    "mactive=session.query(Measurement.station,func.count(Measurement.date)).\\\n",
    "    group_by(Measurement.station).\\\n",
    "    order_by(func.count(Measurement.date).desc()).all()\n",
    "mactive"
   ]
  },
  {
   "cell_type": "markdown",
   "metadata": {},
   "source": [
    "* hint: you may use functions such as func.min, func.max, func.avg, and func.count in your queries."
   ]
  },
  {
   "cell_type": "code",
   "execution_count": 19,
   "metadata": {},
   "outputs": [
    {
     "name": "stdout",
     "output_type": "stream",
     "text": [
      "Lowest temperatures by station\n"
     ]
    },
    {
     "data": {
      "text/plain": [
       "[('USC00513117', 59.0),\n",
       " ('USC00514830', 58.0),\n",
       " ('USC00516128', 58.0),\n",
       " ('USC00517948', 58.0),\n",
       " ('USC00518838', 58.0),\n",
       " ('USC00519397', 56.0),\n",
       " ('USC00519523', 56.0),\n",
       " ('USC00519281', 54.0),\n",
       " ('USC00511918', 53.0)]"
      ]
     },
     "execution_count": 19,
     "metadata": {},
     "output_type": "execute_result"
    }
   ],
   "source": [
    "# calculate the lowest temperature recorded\n",
    "lowest_temp=session.query(Measurement.station,func.min(Measurement.tobs)).\\\n",
    "    group_by(Measurement.station).\\\n",
    "    order_by(func.min(Measurement.tobs).desc()).all()\n",
    "print(f'Lowest temperatures by station')\n",
    "lowest_temp"
   ]
  },
  {
   "cell_type": "code",
   "execution_count": 20,
   "metadata": {},
   "outputs": [
    {
     "name": "stdout",
     "output_type": "stream",
     "text": [
      "Highest temperatures by station\n"
     ]
    },
    {
     "data": {
      "text/plain": [
       "[('USC00511918', 87.0),\n",
       " ('USC00517948', 87.0),\n",
       " ('USC00519397', 87.0),\n",
       " ('USC00513117', 85.0),\n",
       " ('USC00514830', 85.0),\n",
       " ('USC00519281', 85.0),\n",
       " ('USC00519523', 85.0),\n",
       " ('USC00516128', 84.0),\n",
       " ('USC00518838', 83.0)]"
      ]
     },
     "execution_count": 20,
     "metadata": {},
     "output_type": "execute_result"
    }
   ],
   "source": [
    "# calculate the highest temperature recorded\n",
    "highest_temp=session.query(Measurement.station,func.max(Measurement.tobs)).\\\n",
    "    group_by(Measurement.station).\\\n",
    "    order_by(func.max(Measurement.tobs).desc()).all()\n",
    "print(f'Highest temperatures by station')\n",
    "highest_temp"
   ]
  },
  {
   "cell_type": "code",
   "execution_count": 21,
   "metadata": {},
   "outputs": [
    {
     "name": "stdout",
     "output_type": "stream",
     "text": [
      "Highest temperatures by station\n"
     ]
    },
    {
     "data": {
      "text/plain": [
       "[('USC00514830', 74.8732970027248),\n",
       " ('USC00517948', 74.68440233236151),\n",
       " ('USC00519397', 74.55323054331865),\n",
       " ('USC00519523', 74.5436493068565),\n",
       " ('USC00518838', 72.72407045009784),\n",
       " ('USC00513117', 72.68918420081211),\n",
       " ('USC00519281', 71.66378066378067),\n",
       " ('USC00511918', 71.61596766043456),\n",
       " ('USC00516128', 70.91500765696784)]"
      ]
     },
     "execution_count": 21,
     "metadata": {},
     "output_type": "execute_result"
    }
   ],
   "source": [
    "# calculate the average temperature recorded\n",
    "highest_temp=session.query(Measurement.station,func.avg(Measurement.tobs)).\\\n",
    "    group_by(Measurement.station).\\\n",
    "    order_by(func.avg(Measurement.tobs).desc()).all()\n",
    "print(f'Highest temperatures by station')\n",
    "highest_temp"
   ]
  },
  {
   "cell_type": "markdown",
   "metadata": {},
   "source": [
    "* Design a query to retrieve the last 12 months of temperature observation data (tobs).\n",
    "    - Filter by the station with the highest number of observations.\n",
    "    - Plot the results as a histogram with bins=12."
   ]
  },
  {
   "cell_type": "code",
   "execution_count": 22,
   "metadata": {
    "scrolled": true
   },
   "outputs": [],
   "source": [
    "#To obtain the information of the station with the highest number of observations:\n",
    "activest=session.query(Measurement.station).\\\n",
    "    group_by(Measurement.station).\\\n",
    "    order_by(func.count(Measurement.date).desc()).limit(1).\\\n",
    "    subquery()\n",
    "\n",
    "x_temp = session.query(*[Measurement.tobs]).\\\n",
    "    filter(Measurement.station==activest).\\\n",
    "    filter(func.strftime(Measurement.date >= last_year)).\\\n",
    "    group_by(Measurement.tobs).all()\n",
    "x_temp=np.ravel(x_temp).astype(int)"
   ]
  },
  {
   "cell_type": "code",
   "execution_count": 23,
   "metadata": {},
   "outputs": [
    {
     "data": {
      "text/plain": [
       "array([59, 60, 61, 62, 63, 64, 65, 66, 67, 68, 69, 70, 71, 72, 73, 74, 75,\n",
       "       76, 77, 78, 79, 80, 81, 82, 83])"
      ]
     },
     "execution_count": 23,
     "metadata": {},
     "output_type": "execute_result"
    }
   ],
   "source": [
    "x_temp"
   ]
  },
  {
   "cell_type": "code",
   "execution_count": null,
   "metadata": {},
   "outputs": [
    {
     "data": {
      "text/plain": [
       "array([ 3,  2,  1,  6,  4,  3,  7,  5, 15, 12, 19, 22, 18, 22, 18, 39, 33,\n",
       "       33, 31, 22, 18, 11,  4,  3,  1])"
      ]
     },
     "execution_count": 24,
     "metadata": {},
     "output_type": "execute_result"
    }
   ],
   "source": [
    "#Temperatures frequency\n",
    "y_frec = session.query(func.count(Measurement.tobs)).\\\n",
    "    filter(Measurement.station==activest).\\\n",
    "    filter(func.strftime(Measurement.date >= last_year)).\\\n",
    "    group_by(Measurement.tobs).all()\n",
    "y_frec=np.ravel(y_frec).astype(int)\n",
    "y_frec"
   ]
  },
  {
   "cell_type": "code",
   "execution_count": null,
   "metadata": {},
   "outputs": [
    {
     "data": {
      "image/png": "[encoded data removed]",
      "text/plain": [
       "<Figure size 432x288 with 1 Axes>"
      ]
     },
     "metadata": {
      "needs_background": "light"
     },
     "output_type": "display_data"
    }
   ],
   "source": [
    "#plot both variables in a histogram\n",
    "fig, ax = plt.subplots()\n",
    "ax.bar(x_temp,y_frec, width=2, align='center', color='orange')\n",
    "ax.set_xlabel('Temperature (°F)')\n",
    "ax.set_ylabel('Frequency')\n",
    "ax.set_title(f'Honolulu most active station {mactive[0]} Temp Histogram - last 12 months')\n",
    "plt.show()"
   ]
  },
  {
   "cell_type": "markdown",
   "metadata": {},
   "source": [
    "# Other Analysis"
   ]
  },
  {
   "cell_type": "code",
   "execution_count": null,
   "metadata": {},
   "outputs": [],
   "source": [
    "#The starter notebook contains a function called calc_temps that will accept a start date and end date\n",
    "#in the format %Y-%m-%d and return the minimum, average, and maximum temperatures for that range of dates.\n",
    "def calc_temps(start_date, end_date):\n",
    "    \"\"\"TMIN, TAVG, and TMAX for a list of dates.    \n",
    "    Args:\n",
    "        start_date (string): A date string in the format %Y-%m-%d\n",
    "        end_date (string): A date string in the format %Y-%m-%d       \n",
    "    Returns:\n",
    "        TMIN, TAVE, and TMAX\n",
    "    \"\"\"   \n",
    "    return session.query(func.min(Measurement.tobs), func.avg(Measurement.tobs), func.max(Measurement.tobs)).\\\n",
    "        filter(Measurement.date >= start_date).filter(Measurement.date <= end_date).all()"
   ]
  },
  {
   "cell_type": "code",
   "execution_count": null,
   "metadata": {},
   "outputs": [
    {
     "name": "stdout",
     "output_type": "stream",
     "text": [
      "If temperature behaves similar as LY; Min, Avg and Max temperatures with history data from 2017-08-01 and 2017-08-08 wll be:\n",
      "[(69.0, 78.59298245614035, 87.0)]\n"
     ]
    }
   ],
   "source": [
    "# calculate min, avg, and max temps for your trip using data from STLY. My trip could be in JUL or AUG so I take:\n",
    "print(f'If temperature behaves similar as LY; Min, Avg and Max temperatures with history data from 2017-08-01 and 2017-08-08 wll be:')\n",
    "tripstart='2017-07-01'\n",
    "tripend='2017-08-31'\n",
    "print(calc_temps(tripstart,tripend))\n",
    "f= np.ravel(calc_temps('2017-07-01', '2017-08-31'))\n",
    "g=np.array([f[0],f[2]])\n"
   ]
  },
  {
   "cell_type": "code",
   "execution_count": null,
   "metadata": {},
   "outputs": [
    {
     "data": {
      "image/png": "[encoded data removed]",
      "text/plain": [
       "<Figure size 432x288 with 1 Axes>"
      ]
     },
     "metadata": {
      "needs_background": "light"
     },
     "output_type": "display_data"
    }
   ],
   "source": [
    "#Plot the min, avg, and max temperature from your previous query as a bar chart.\n",
    "#Use the average temperature as the bar height.\n",
    "#Use the peak-to-peak (tmax-tmin) value as the y error bar (yerr).\n",
    "\n",
    "fig,ax = plt.subplots()\n",
    "\n",
    "lower_error = f[0]-f[1]\n",
    "upper_error = f[2]-f[1]\n",
    "error = [(lower_error, upper_error)]\n",
    "ax.bar(0,f[1], width=0.1,yerr=error, tick_label=\"Exp Temp\", ecolor=\"red\")\n",
    "ax.set_ylabel('AVG Temp in the Trip Dates (LY)')\n",
    "ax.set_title('Trip Expected Temperature (°F) in Hawaii')\n",
    "plt.show()"
   ]
  },
  {
   "cell_type": "code",
   "execution_count": null,
   "metadata": {},
   "outputs": [
    {
     "data": {
      "text/plain": [
       "[('USC00516128', 18.320000000000007, 21.3331, -157.8025, 152.4),\n",
       " ('USC00519281', 4.279999999999999, 21.45167, -157.84888999999998, 32.9),\n",
       " ('USC00513117', 2.16, 21.4234, -157.8015, 14.6),\n",
       " ('USC00519397', 0.48000000000000004, 21.2716, -157.8168, 3.0),\n",
       " ('USC00514830', 2.7999999999999994, 21.5213, -157.8374, 7.0),\n",
       " ('USC00517948', 0.01, 21.3934, -157.9751, 11.9),\n",
       " ('USC00519523', 0.85, 21.33556, -157.71139, 19.5)]"
      ]
     },
     "execution_count": 29,
     "metadata": {},
     "output_type": "execute_result"
    }
   ],
   "source": [
    "# Calculate the rainfall per weather station using the previous year's matching dates.\n",
    "\n",
    "from sqlalchemy import and_, or_, not_\n",
    "query0 = [Measurement.station, func.sum(Measurement.prcp), Station.latitude, Station.longitude, Station.elevation]\n",
    "data = session.query(*query0).\\\n",
    "    filter(and_(func.strftime(Measurement.date >= tripstart)), (func.strftime(Measurement.date <=tripend))).\\\n",
    "    filter(Measurement.station == Station.station).\\\n",
    "    group_by(Measurement.station).\\\n",
    "    order_by(Measurement.prcp.desc()).all() ##why is this not sorting in desc() as instructed??\n",
    "data"
   ]
  },
  {
   "cell_type": "code",
   "execution_count": null,
   "metadata": {},
   "outputs": [
    {
     "data": {
      "text/plain": [
       "[(62.0, 69.15384615384616, 77.0)]"
      ]
     },
     "execution_count": 30,
     "metadata": {},
     "output_type": "execute_result"
    }
   ],
   "source": [
    "# Calculate the daily normals, which means avg for min, max and avg for all data in a specific day\n",
    "\n",
    "def daily_normals(date):\n",
    "    \"\"\"Daily Normals.    \n",
    "    Args:\n",
    "        date (str): A date string in the format '%m-%d'       \n",
    "    Returns:\n",
    "        A list of tuples containing the daily normals, tmin, tavg, and tmax    \n",
    "    \"\"\"    \n",
    "    query1 = [func.min(Measurement.tobs), func.avg(Measurement.tobs), func.max(Measurement.tobs)]\n",
    "    return session.query(*query1).filter(func.strftime(\"%m-%d\", Measurement.date) == date).all()   \n",
    "daily_normals(\"01-01\")"
   ]
  },
  {
   "cell_type": "code",
   "execution_count": null,
   "metadata": {},
   "outputs": [],
   "source": [
    "# calculate the daily normals for your trip\n",
    "from datetime import datetime\n",
    "# start and end dates for the range of dates, defined already\n",
    "dates=pd.date_range(\n",
    "    start=tripstart,\n",
    "    end=tripend,\n",
    "    periods=None,\n",
    "    freq=None,\n",
    "    tz=None,\n",
    "    normalize=False,\n",
    "    name=None,\n",
    "    closed=None)"
   ]
  },
  {
   "cell_type": "code",
   "execution_count": null,
   "metadata": {},
   "outputs": [],
   "source": [
    "date_list=[]\n",
    "min_list=[]\n",
    "avg_list=[]\n",
    "max_list=[]\n",
    "for i in dates:\n",
    "    \n",
    "    time=datetime.strftime(i,\"%m-%d\")\n",
    "    date_list.append(time)\n",
    "    # Loops through the list of strings in \"time\" to get the normals\n",
    "    n=daily_normals(time)\n",
    "    min_list.append(n[0][0])\n",
    "    avg_list.append(n[0][1])\n",
    "    max_list.append(n[0][2])"
   ]
  },
  {
   "cell_type": "code",
   "execution_count": null,
   "metadata": {},
   "outputs": [
    {
     "data": {
      "text/html": [
       "<div>\n",
       "<style scoped>\n",
       "    .dataframe tbody tr th:only-of-type {\n",
       "        vertical-align: middle;\n",
       "    }\n",
       "\n",
       "    .dataframe tbody tr th {\n",
       "        vertical-align: top;\n",
       "    }\n",
       "\n",
       "    .dataframe thead th {\n",
       "        text-align: right;\n",
       "    }\n",
       "</style>\n",
       "<table border=\"1\" class=\"dataframe\">\n",
       "  <thead>\n",
       "    <tr style=\"text-align: right;\">\n",
       "      <th></th>\n",
       "      <th>Min Temp</th>\n",
       "      <th>Avg Temp</th>\n",
       "      <th>Max Temp</th>\n",
       "    </tr>\n",
       "    <tr>\n",
       "      <th>Date</th>\n",
       "      <th></th>\n",
       "      <th></th>\n",
       "      <th></th>\n",
       "    </tr>\n",
       "  </thead>\n",
       "  <tbody>\n",
       "    <tr>\n",
       "      <th>07-01</th>\n",
       "      <td>67.0</td>\n",
       "      <td>74.777778</td>\n",
       "      <td>81.0</td>\n",
       "    </tr>\n",
       "    <tr>\n",
       "      <th>07-02</th>\n",
       "      <td>68.0</td>\n",
       "      <td>75.403846</td>\n",
       "      <td>82.0</td>\n",
       "    </tr>\n",
       "    <tr>\n",
       "      <th>07-03</th>\n",
       "      <td>68.0</td>\n",
       "      <td>75.320755</td>\n",
       "      <td>87.0</td>\n",
       "    </tr>\n",
       "    <tr>\n",
       "      <th>07-04</th>\n",
       "      <td>70.0</td>\n",
       "      <td>76.571429</td>\n",
       "      <td>81.0</td>\n",
       "    </tr>\n",
       "    <tr>\n",
       "      <th>07-05</th>\n",
       "      <td>66.0</td>\n",
       "      <td>75.000000</td>\n",
       "      <td>81.0</td>\n",
       "    </tr>\n",
       "    <tr>\n",
       "      <th>07-06</th>\n",
       "      <td>69.0</td>\n",
       "      <td>75.000000</td>\n",
       "      <td>81.0</td>\n",
       "    </tr>\n",
       "    <tr>\n",
       "      <th>07-07</th>\n",
       "      <td>69.0</td>\n",
       "      <td>74.910714</td>\n",
       "      <td>82.0</td>\n",
       "    </tr>\n",
       "    <tr>\n",
       "      <th>07-08</th>\n",
       "      <td>69.0</td>\n",
       "      <td>76.083333</td>\n",
       "      <td>83.0</td>\n",
       "    </tr>\n",
       "    <tr>\n",
       "      <th>07-09</th>\n",
       "      <td>68.0</td>\n",
       "      <td>76.192982</td>\n",
       "      <td>83.0</td>\n",
       "    </tr>\n",
       "    <tr>\n",
       "      <th>07-10</th>\n",
       "      <td>68.0</td>\n",
       "      <td>75.620690</td>\n",
       "      <td>82.0</td>\n",
       "    </tr>\n",
       "    <tr>\n",
       "      <th>07-11</th>\n",
       "      <td>70.0</td>\n",
       "      <td>75.789474</td>\n",
       "      <td>81.0</td>\n",
       "    </tr>\n",
       "    <tr>\n",
       "      <th>07-12</th>\n",
       "      <td>67.0</td>\n",
       "      <td>75.964912</td>\n",
       "      <td>82.0</td>\n",
       "    </tr>\n",
       "    <tr>\n",
       "      <th>07-13</th>\n",
       "      <td>69.0</td>\n",
       "      <td>76.189655</td>\n",
       "      <td>81.0</td>\n",
       "    </tr>\n",
       "    <tr>\n",
       "      <th>07-14</th>\n",
       "      <td>61.0</td>\n",
       "      <td>76.228070</td>\n",
       "      <td>82.0</td>\n",
       "    </tr>\n",
       "    <tr>\n",
       "      <th>07-15</th>\n",
       "      <td>68.0</td>\n",
       "      <td>76.254237</td>\n",
       "      <td>82.0</td>\n",
       "    </tr>\n",
       "    <tr>\n",
       "      <th>07-16</th>\n",
       "      <td>70.0</td>\n",
       "      <td>76.344828</td>\n",
       "      <td>83.0</td>\n",
       "    </tr>\n",
       "    <tr>\n",
       "      <th>07-17</th>\n",
       "      <td>70.0</td>\n",
       "      <td>76.301887</td>\n",
       "      <td>83.0</td>\n",
       "    </tr>\n",
       "    <tr>\n",
       "      <th>07-18</th>\n",
       "      <td>72.0</td>\n",
       "      <td>76.637931</td>\n",
       "      <td>83.0</td>\n",
       "    </tr>\n",
       "    <tr>\n",
       "      <th>07-19</th>\n",
       "      <td>68.0</td>\n",
       "      <td>75.890909</td>\n",
       "      <td>83.0</td>\n",
       "    </tr>\n",
       "    <tr>\n",
       "      <th>07-20</th>\n",
       "      <td>69.0</td>\n",
       "      <td>75.462963</td>\n",
       "      <td>82.0</td>\n",
       "    </tr>\n",
       "    <tr>\n",
       "      <th>07-21</th>\n",
       "      <td>69.0</td>\n",
       "      <td>76.924528</td>\n",
       "      <td>83.0</td>\n",
       "    </tr>\n",
       "    <tr>\n",
       "      <th>07-22</th>\n",
       "      <td>69.0</td>\n",
       "      <td>75.788462</td>\n",
       "      <td>81.0</td>\n",
       "    </tr>\n",
       "    <tr>\n",
       "      <th>07-23</th>\n",
       "      <td>70.0</td>\n",
       "      <td>76.203704</td>\n",
       "      <td>84.0</td>\n",
       "    </tr>\n",
       "    <tr>\n",
       "      <th>07-24</th>\n",
       "      <td>69.0</td>\n",
       "      <td>76.555556</td>\n",
       "      <td>81.0</td>\n",
       "    </tr>\n",
       "    <tr>\n",
       "      <th>07-25</th>\n",
       "      <td>67.0</td>\n",
       "      <td>76.890909</td>\n",
       "      <td>84.0</td>\n",
       "    </tr>\n",
       "    <tr>\n",
       "      <th>07-26</th>\n",
       "      <td>71.0</td>\n",
       "      <td>76.442308</td>\n",
       "      <td>86.0</td>\n",
       "    </tr>\n",
       "    <tr>\n",
       "      <th>07-27</th>\n",
       "      <td>68.0</td>\n",
       "      <td>76.581818</td>\n",
       "      <td>83.0</td>\n",
       "    </tr>\n",
       "    <tr>\n",
       "      <th>07-28</th>\n",
       "      <td>69.0</td>\n",
       "      <td>76.464286</td>\n",
       "      <td>82.0</td>\n",
       "    </tr>\n",
       "    <tr>\n",
       "      <th>07-29</th>\n",
       "      <td>69.0</td>\n",
       "      <td>76.470588</td>\n",
       "      <td>83.0</td>\n",
       "    </tr>\n",
       "    <tr>\n",
       "      <th>07-30</th>\n",
       "      <td>69.0</td>\n",
       "      <td>77.351852</td>\n",
       "      <td>84.0</td>\n",
       "    </tr>\n",
       "    <tr>\n",
       "      <th>...</th>\n",
       "      <td>...</td>\n",
       "      <td>...</td>\n",
       "      <td>...</td>\n",
       "    </tr>\n",
       "    <tr>\n",
       "      <th>08-02</th>\n",
       "      <td>68.0</td>\n",
       "      <td>75.603774</td>\n",
       "      <td>84.0</td>\n",
       "    </tr>\n",
       "    <tr>\n",
       "      <th>08-03</th>\n",
       "      <td>70.0</td>\n",
       "      <td>76.611111</td>\n",
       "      <td>85.0</td>\n",
       "    </tr>\n",
       "    <tr>\n",
       "      <th>08-04</th>\n",
       "      <td>69.0</td>\n",
       "      <td>76.711538</td>\n",
       "      <td>84.0</td>\n",
       "    </tr>\n",
       "    <tr>\n",
       "      <th>08-05</th>\n",
       "      <td>69.0</td>\n",
       "      <td>76.148148</td>\n",
       "      <td>82.0</td>\n",
       "    </tr>\n",
       "    <tr>\n",
       "      <th>08-06</th>\n",
       "      <td>67.0</td>\n",
       "      <td>76.250000</td>\n",
       "      <td>83.0</td>\n",
       "    </tr>\n",
       "    <tr>\n",
       "      <th>08-07</th>\n",
       "      <td>71.0</td>\n",
       "      <td>77.156863</td>\n",
       "      <td>83.0</td>\n",
       "    </tr>\n",
       "    <tr>\n",
       "      <th>08-08</th>\n",
       "      <td>68.0</td>\n",
       "      <td>76.557692</td>\n",
       "      <td>83.0</td>\n",
       "    </tr>\n",
       "    <tr>\n",
       "      <th>08-09</th>\n",
       "      <td>69.0</td>\n",
       "      <td>75.980392</td>\n",
       "      <td>81.0</td>\n",
       "    </tr>\n",
       "    <tr>\n",
       "      <th>08-10</th>\n",
       "      <td>65.0</td>\n",
       "      <td>76.420000</td>\n",
       "      <td>83.0</td>\n",
       "    </tr>\n",
       "    <tr>\n",
       "      <th>08-11</th>\n",
       "      <td>67.0</td>\n",
       "      <td>75.981132</td>\n",
       "      <td>82.0</td>\n",
       "    </tr>\n",
       "    <tr>\n",
       "      <th>08-12</th>\n",
       "      <td>67.0</td>\n",
       "      <td>76.527273</td>\n",
       "      <td>83.0</td>\n",
       "    </tr>\n",
       "    <tr>\n",
       "      <th>08-13</th>\n",
       "      <td>71.0</td>\n",
       "      <td>76.982456</td>\n",
       "      <td>84.0</td>\n",
       "    </tr>\n",
       "    <tr>\n",
       "      <th>08-14</th>\n",
       "      <td>71.0</td>\n",
       "      <td>76.777778</td>\n",
       "      <td>82.0</td>\n",
       "    </tr>\n",
       "    <tr>\n",
       "      <th>08-15</th>\n",
       "      <td>69.0</td>\n",
       "      <td>76.471698</td>\n",
       "      <td>83.0</td>\n",
       "    </tr>\n",
       "    <tr>\n",
       "      <th>08-16</th>\n",
       "      <td>69.0</td>\n",
       "      <td>76.080000</td>\n",
       "      <td>83.0</td>\n",
       "    </tr>\n",
       "    <tr>\n",
       "      <th>08-17</th>\n",
       "      <td>69.0</td>\n",
       "      <td>76.125000</td>\n",
       "      <td>83.0</td>\n",
       "    </tr>\n",
       "    <tr>\n",
       "      <th>08-18</th>\n",
       "      <td>70.0</td>\n",
       "      <td>76.923077</td>\n",
       "      <td>84.0</td>\n",
       "    </tr>\n",
       "    <tr>\n",
       "      <th>08-19</th>\n",
       "      <td>69.0</td>\n",
       "      <td>75.946429</td>\n",
       "      <td>85.0</td>\n",
       "    </tr>\n",
       "    <tr>\n",
       "      <th>08-20</th>\n",
       "      <td>68.0</td>\n",
       "      <td>76.452830</td>\n",
       "      <td>82.0</td>\n",
       "    </tr>\n",
       "    <tr>\n",
       "      <th>08-21</th>\n",
       "      <td>67.0</td>\n",
       "      <td>76.400000</td>\n",
       "      <td>83.0</td>\n",
       "    </tr>\n",
       "    <tr>\n",
       "      <th>08-22</th>\n",
       "      <td>69.0</td>\n",
       "      <td>76.471698</td>\n",
       "      <td>84.0</td>\n",
       "    </tr>\n",
       "    <tr>\n",
       "      <th>08-23</th>\n",
       "      <td>67.0</td>\n",
       "      <td>76.692308</td>\n",
       "      <td>87.0</td>\n",
       "    </tr>\n",
       "    <tr>\n",
       "      <th>08-24</th>\n",
       "      <td>70.0</td>\n",
       "      <td>75.961538</td>\n",
       "      <td>84.0</td>\n",
       "    </tr>\n",
       "    <tr>\n",
       "      <th>08-25</th>\n",
       "      <td>69.0</td>\n",
       "      <td>76.960784</td>\n",
       "      <td>82.0</td>\n",
       "    </tr>\n",
       "    <tr>\n",
       "      <th>08-26</th>\n",
       "      <td>71.0</td>\n",
       "      <td>76.568627</td>\n",
       "      <td>84.0</td>\n",
       "    </tr>\n",
       "    <tr>\n",
       "      <th>08-27</th>\n",
       "      <td>68.0</td>\n",
       "      <td>76.283019</td>\n",
       "      <td>84.0</td>\n",
       "    </tr>\n",
       "    <tr>\n",
       "      <th>08-28</th>\n",
       "      <td>67.0</td>\n",
       "      <td>76.734694</td>\n",
       "      <td>86.0</td>\n",
       "    </tr>\n",
       "    <tr>\n",
       "      <th>08-29</th>\n",
       "      <td>70.0</td>\n",
       "      <td>76.235294</td>\n",
       "      <td>85.0</td>\n",
       "    </tr>\n",
       "    <tr>\n",
       "      <th>08-30</th>\n",
       "      <td>68.0</td>\n",
       "      <td>76.416667</td>\n",
       "      <td>84.0</td>\n",
       "    </tr>\n",
       "    <tr>\n",
       "      <th>08-31</th>\n",
       "      <td>67.0</td>\n",
       "      <td>76.840000</td>\n",
       "      <td>85.0</td>\n",
       "    </tr>\n",
       "  </tbody>\n",
       "</table>\n",
       "<p>62 rows × 3 columns</p>\n",
       "</div>"
      ],
      "text/plain": [
       "       Min Temp   Avg Temp  Max Temp\n",
       "Date                                \n",
       "07-01      67.0  74.777778      81.0\n",
       "07-02      68.0  75.403846      82.0\n",
       "07-03      68.0  75.320755      87.0\n",
       "07-04      70.0  76.571429      81.0\n",
       "07-05      66.0  75.000000      81.0\n",
       "07-06      69.0  75.000000      81.0\n",
       "07-07      69.0  74.910714      82.0\n",
       "07-08      69.0  76.083333      83.0\n",
       "07-09      68.0  76.192982      83.0\n",
       "07-10      68.0  75.620690      82.0\n",
       "07-11      70.0  75.789474      81.0\n",
       "07-12      67.0  75.964912      82.0\n",
       "07-13      69.0  76.189655      81.0\n",
       "07-14      61.0  76.228070      82.0\n",
       "07-15      68.0  76.254237      82.0\n",
       "07-16      70.0  76.344828      83.0\n",
       "07-17      70.0  76.301887      83.0\n",
       "07-18      72.0  76.637931      83.0\n",
       "07-19      68.0  75.890909      83.0\n",
       "07-20      69.0  75.462963      82.0\n",
       "07-21      69.0  76.924528      83.0\n",
       "07-22      69.0  75.788462      81.0\n",
       "07-23      70.0  76.203704      84.0\n",
       "07-24      69.0  76.555556      81.0\n",
       "07-25      67.0  76.890909      84.0\n",
       "07-26      71.0  76.442308      86.0\n",
       "07-27      68.0  76.581818      83.0\n",
       "07-28      69.0  76.464286      82.0\n",
       "07-29      69.0  76.470588      83.0\n",
       "07-30      69.0  77.351852      84.0\n",
       "...         ...        ...       ...\n",
       "08-02      68.0  75.603774      84.0\n",
       "08-03      70.0  76.611111      85.0\n",
       "08-04      69.0  76.711538      84.0\n",
       "08-05      69.0  76.148148      82.0\n",
       "08-06      67.0  76.250000      83.0\n",
       "08-07      71.0  77.156863      83.0\n",
       "08-08      68.0  76.557692      83.0\n",
       "08-09      69.0  75.980392      81.0\n",
       "08-10      65.0  76.420000      83.0\n",
       "08-11      67.0  75.981132      82.0\n",
       "08-12      67.0  76.527273      83.0\n",
       "08-13      71.0  76.982456      84.0\n",
       "08-14      71.0  76.777778      82.0\n",
       "08-15      69.0  76.471698      83.0\n",
       "08-16      69.0  76.080000      83.0\n",
       "08-17      69.0  76.125000      83.0\n",
       "08-18      70.0  76.923077      84.0\n",
       "08-19      69.0  75.946429      85.0\n",
       "08-20      68.0  76.452830      82.0\n",
       "08-21      67.0  76.400000      83.0\n",
       "08-22      69.0  76.471698      84.0\n",
       "08-23      67.0  76.692308      87.0\n",
       "08-24      70.0  75.961538      84.0\n",
       "08-25      69.0  76.960784      82.0\n",
       "08-26      71.0  76.568627      84.0\n",
       "08-27      68.0  76.283019      84.0\n",
       "08-28      67.0  76.734694      86.0\n",
       "08-29      70.0  76.235294      85.0\n",
       "08-30      68.0  76.416667      84.0\n",
       "08-31      67.0  76.840000      85.0\n",
       "\n",
       "[62 rows x 3 columns]"
      ]
     },
     "execution_count": 33,
     "metadata": {},
     "output_type": "execute_result"
    }
   ],
   "source": [
    "# converts the previous query results into Pandas DataFrame aand make the dates as the index\n",
    "\n",
    "trip_temperature = pd.DataFrame(\n",
    "    {'Date': date_list,\n",
    "     'Min Temp': min_list,\n",
    "     'Avg Temp': avg_list,\n",
    "     'Max Temp': max_list,\n",
    "    }).set_index('Date')\n",
    "trip_temperature"
   ]
  },
  {
   "cell_type": "code",
   "execution_count": null,
   "metadata": {},
   "outputs": [
    {
     "data": {
      "text/html": [
       "<div>\n",
       "<style scoped>\n",
       "    .dataframe tbody tr th:only-of-type {\n",
       "        vertical-align: middle;\n",
       "    }\n",
       "\n",
       "    .dataframe tbody tr th {\n",
       "        vertical-align: top;\n",
       "    }\n",
       "\n",
       "    .dataframe thead th {\n",
       "        text-align: right;\n",
       "    }\n",
       "</style>\n",
       "<table border=\"1\" class=\"dataframe\">\n",
       "  <thead>\n",
       "    <tr style=\"text-align: right;\">\n",
       "      <th></th>\n",
       "      <th>Min Temp</th>\n",
       "      <th>Avg Temp</th>\n",
       "      <th>Max Temp</th>\n",
       "    </tr>\n",
       "  </thead>\n",
       "  <tbody>\n",
       "    <tr>\n",
       "      <th>count</th>\n",
       "      <td>62.000000</td>\n",
       "      <td>62.000000</td>\n",
       "      <td>62.000000</td>\n",
       "    </tr>\n",
       "    <tr>\n",
       "      <th>mean</th>\n",
       "      <td>68.612903</td>\n",
       "      <td>76.249483</td>\n",
       "      <td>83.048387</td>\n",
       "    </tr>\n",
       "    <tr>\n",
       "      <th>std</th>\n",
       "      <td>1.730676</td>\n",
       "      <td>0.560432</td>\n",
       "      <td>1.442078</td>\n",
       "    </tr>\n",
       "    <tr>\n",
       "      <th>min</th>\n",
       "      <td>61.000000</td>\n",
       "      <td>74.777778</td>\n",
       "      <td>81.000000</td>\n",
       "    </tr>\n",
       "    <tr>\n",
       "      <th>25%</th>\n",
       "      <td>68.000000</td>\n",
       "      <td>75.968782</td>\n",
       "      <td>82.000000</td>\n",
       "    </tr>\n",
       "    <tr>\n",
       "      <th>50%</th>\n",
       "      <td>69.000000</td>\n",
       "      <td>76.323357</td>\n",
       "      <td>83.000000</td>\n",
       "    </tr>\n",
       "    <tr>\n",
       "      <th>75%</th>\n",
       "      <td>69.750000</td>\n",
       "      <td>76.579221</td>\n",
       "      <td>84.000000</td>\n",
       "    </tr>\n",
       "    <tr>\n",
       "      <th>max</th>\n",
       "      <td>72.000000</td>\n",
       "      <td>77.351852</td>\n",
       "      <td>87.000000</td>\n",
       "    </tr>\n",
       "  </tbody>\n",
       "</table>\n",
       "</div>"
      ],
      "text/plain": [
       "        Min Temp   Avg Temp   Max Temp\n",
       "count  62.000000  62.000000  62.000000\n",
       "mean   68.612903  76.249483  83.048387\n",
       "std     1.730676   0.560432   1.442078\n",
       "min    61.000000  74.777778  81.000000\n",
       "25%    68.000000  75.968782  82.000000\n",
       "50%    69.000000  76.323357  83.000000\n",
       "75%    69.750000  76.579221  84.000000\n",
       "max    72.000000  77.351852  87.000000"
      ]
     },
     "execution_count": 34,
     "metadata": {},
     "output_type": "execute_result"
    }
   ],
   "source": [
    "trip_temperature.describe()"
   ]
  },
  {
   "cell_type": "code",
   "execution_count": null,
   "metadata": {},
   "outputs": [
    {
     "data": {
      "image/png": "[encoded data removed]",
      "text/plain": [
       "<Figure size 432x288 with 1 Axes>"
      ]
     },
     "metadata": {
      "needs_background": "light"
     },
     "output_type": "display_data"
    }
   ],
   "source": [
    "# Plot daily normals in the selected Trip Dates (July and August)\n",
    "graph = trip_temperature.plot.area(stacked=False).set_ylim(35,100)"
   ]
  },
  {
   "cell_type": "markdown",
   "metadata": {},
   "source": [
    "# step 2"
   ]
  },
  {
   "cell_type": "code",
   "execution_count": null,
   "metadata": {},
   "outputs": [],
   "source": [
    "# Connect to the Python data base\n",
    "engine = create_engine('sqlite:///hawaii.sqlite', echo=False, connect_args = {'check_same_thread':False})"
   ]
  },
  {
   "cell_type": "code",
   "execution_count": null,
   "metadata": {},
   "outputs": [],
   "source": [
    "Base = automap_base()\n",
    "# Reflect the created database into ORM classes\n",
    "Base.prepare(engine, reflect=True)"
   ]
  },
  {
   "cell_type": "code",
   "execution_count": null,
   "metadata": {},
   "outputs": [],
   "source": [
    "# Save a reference to the measurenment table \n",
    "Measurement = Base.classes.measurement\n",
    "\n",
    "# Save a reference to the station table \n",
    "Station = Base.classes.station"
   ]
  },
  {
   "cell_type": "code",
   "execution_count": null,
   "metadata": {},
   "outputs": [],
   "source": [
    "# Create the session from Python to the DB\n",
    "session = Session(engine)\n",
    "\n",
    "# to get the date a year from the last date with the variable last_year previously created\n",
    "twelve_months_ago = last_year - dt.timedelta(days=365)"
   ]
  },
  {
   "cell_type": "code",
   "execution_count": null,
   "metadata": {},
   "outputs": [
    {
     "data": {
      "text/plain": [
       "datetime.date(2015, 8, 24)"
      ]
     },
     "execution_count": 40,
     "metadata": {},
     "output_type": "execute_result"
    }
   ],
   "source": [
    "twelve_months_ago"
   ]
  },
  {
   "cell_type": "code",
   "execution_count": null,
   "metadata": {},
   "outputs": [],
   "source": [
    "#####"
   ]
  },
  {
   "cell_type": "code",
   "execution_count": null,
   "metadata": {},
   "outputs": [],
   "source": [
    "from flask import Flask, jsonify\n",
    "app = Flask(__name__)"
   ]
  },
  {
   "cell_type": "code",
   "execution_count": null,
   "metadata": {},
   "outputs": [],
   "source": [
    "@app.route(\"/\")\n",
    "def home():\n",
    "        return (\n",
    "        \"<h1>Hawaii Weather App</h1>\"\n",
    "        f\"These are the Available Routes:<br/>\"\n",
    "        f\"/api/v1.0/precipitation<br/>\"\n",
    "        f\"/api/v1.0/stations<br/>\"\n",
    "        f\"/api/v1.0/tobs<br/>\"\n",
    "        f\"/api/v1.0/<start><br/>\"\n",
    "        f\"/api/v1.0/<start>/<end>\"\n",
    "    )"
   ]
  },
  {
   "cell_type": "code",
   "execution_count": null,
   "metadata": {},
   "outputs": [],
   "source": [
    "@app.route(\"/api/v1.0/precipitation\")\n",
    "def precipitation():\n",
    "    # Create the session from Python to the database\n",
    "    session = Session(engine)\n",
    "\n",
    "    \"\"\"Return a list of all measurments\"\"\"\n",
    "    # Query all \n",
    "    results = session.query(Measurement.date, Measurement.prcp).all()\n",
    "\n",
    "    session.close()\n",
    "\n",
    "    # Create a dictionary from the row data and append to a list of all_measurments\n",
    "    all_measurements = []\n",
    "    for date, prcp in results:\n",
    "        measurement_dict = {}\n",
    "        measurement_dict[\"date\"] = date\n",
    "        measurement_dict[\"percipitation\"] = prcp\n",
    "        all_measurements.append(measurement_dict)\n",
    "\n",
    "    return jsonify(all_measurements)"
   ]
  },
  {
   "cell_type": "code",
   "execution_count": null,
   "metadata": {},
   "outputs": [],
   "source": [
    "@app.route(\"/api/v1.0/stations\")\n",
    "def stations():\n",
    "  \n",
    "    # Query all\n",
    "    results = session.query(Station).all()\n",
    "\n",
    "    session.close()\n",
    "    \n",
    "    #jsonify\n",
    "    \n",
    "    stations_set = []\n",
    "    for station in results:\n",
    "        stations_element = station\n",
    "        stations.append(station)\n",
    "        \n",
    "    return jsonify(stations_set)"
   ]
  },
  {
   "cell_type": "code",
   "execution_count": null,
   "metadata": {},
   "outputs": [],
   "source": [
    "@app.route(\"/api/v1.0/tobs\")\n",
    "def tobs():\n",
    "\n",
    "   # Query all the stations and for the given date. \n",
    "\n",
    "    results = session.execute(\n",
    "        \"SELECT date, station, tobs FROM measurement WHERE date > '{}' GROUP BY  date ORDER BY station\".format(twelve_months_ago))\n",
    "    tobs_list = []\n",
    "    \n",
    "    for tob in results:\n",
    "\n",
    "        tobs_dict={}\n",
    "        tobs_dict[\"date\"] = tob.date\n",
    "        tobs_dict[\"station\"]= tob.station\n",
    "        tobs_dict[\"temperature\"] = tob.tobs\n",
    "        tobs_list.append(tobs_dict)\n",
    "\n",
    "    return jsonify(tobs_list)\n"
   ]
  },
  {
   "cell_type": "code",
   "execution_count": null,
   "metadata": {},
   "outputs": [],
   "source": [
    "@app.route(\"/api/v1.0/<start>\")\n",
    "def startdate(start):\n",
    "    \n",
    "    # Start Date\n",
    "    last_date = session.query(Measurement.date).order_by(Measurement.date.desc()).first()\n",
    "    last_date = str(last_date)\n",
    "    last_date = last_date[2:]\n",
    "    last_date = last_date[:-3]\n",
    "    \n",
    "    result = calc_temp(start, last_date, session)\n",
    "    \n",
    "    return jsonify(result)"
   ]
  },
  {
   "cell_type": "code",
   "execution_count": null,
   "metadata": {},
   "outputs": [
    {
     "name": "stdout",
     "output_type": "stream",
     "text": [
      " * Serving Flask app \"__main__\" (lazy loading)\n",
      " * Environment: production\n",
      "   WARNING: Do not use the development server in a production environment.\n",
      "   Use a production WSGI server instead.\n",
      " * Debug mode: on\n"
     ]
    },
    {
     "name": "stderr",
     "output_type": "stream",
     "text": [
      " * Running on http://127.0.0.1:5000/ (Press CTRL+C to quit)\n"
     ]
    }
   ],
   "source": [
    "@app.route(\"/api/v1.0/<start>/<end>\")\n",
    "def datestartend(start, end):\n",
    "    \n",
    "    result = calc_temp(start, end, session)\n",
    "    \n",
    "    return jsonify(result)\n",
    "    \n",
    "if __name__ == '__main__':\n",
    "    app.run(debug=True, use_reloader=False)"
   ]
  },
  {
   "cell_type": "code",
   "execution_count": null,
   "metadata": {},
   "outputs": [],
   "source": []
  }
 ],
 "metadata": {
  "kernelspec": {
   "display_name": "Python 3",
   "language": "python",
   "name": "python3"
  },
  "language_info": {
   "codemirror_mode": {
    "name": "ipython",
    "version": 3
   },
   "file_extension": ".py",
   "mimetype": "text/x-python",
   "name": "python",
   "nbconvert_exporter": "python",
   "pygments_lexer": "ipython3",
   "version": "3.7.3"
  }
 },
 "nbformat": 4,
 "nbformat_minor": 2
}
